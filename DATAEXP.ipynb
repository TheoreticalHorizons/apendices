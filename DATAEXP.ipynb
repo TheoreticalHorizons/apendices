{
  "nbformat": 4,
  "nbformat_minor": 0,
  "metadata": {
    "colab": {
      "provenance": []
    },
    "kernelspec": {
      "name": "python3",
      "display_name": "Python 3"
    },
    "language_info": {
      "name": "python"
    }
  },
  "cells": [
    {
      "cell_type": "code",
      "execution_count": null,
      "metadata": {
        "colab": {
          "base_uri": "https://localhost:8080/"
        },
        "id": "YAdC53_03JpU",
        "outputId": "9e832481-3ab7-41d2-b669-e64a317e6e77"
      },
      "outputs": [
        {
          "output_type": "stream",
          "name": "stdout",
          "text": [
            "Ángulo B→A respecto al eje vertical: 2.59°\n"
          ]
        }
      ],
      "source": [
        "import math\n",
        "\n",
        "# Datos\n",
        "xA, yA = -0.0021804, 0.677549957   # posición de B\n",
        "xB, yB = -0.01427379, 0.9445006  # posición de A\n",
        "dx = xB - xA\n",
        "dy = yB - yA\n",
        "\n",
        "# Ángulo respecto al eje y que pasa por B\n",
        "theta_rad = math.atan2(dx, dy)\n",
        "theta_deg = -1*math.degrees(theta_rad)\n",
        "\n",
        "print(f\"Ángulo B→A respecto al eje vertical: {theta_deg:.2f}°\")\n"
      ]
    },
    {
      "cell_type": "code",
      "source": [],
      "metadata": {
        "id": "kiojRZDG9dWU"
      },
      "execution_count": null,
      "outputs": []
    }
  ]
}